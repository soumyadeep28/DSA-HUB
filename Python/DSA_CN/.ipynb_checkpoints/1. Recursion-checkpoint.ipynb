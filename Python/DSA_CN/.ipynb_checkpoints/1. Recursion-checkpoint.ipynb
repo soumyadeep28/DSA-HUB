{
 "cells": [
  {
   "cell_type": "markdown",
   "metadata": {},
   "source": [
    "#### Factorial "
   ]
  },
  {
   "cell_type": "code",
   "execution_count": 7,
   "metadata": {},
   "outputs": [
    {
     "name": "stdout",
     "output_type": "stream",
     "text": [
      "Enter num:2\n"
     ]
    },
    {
     "data": {
      "text/plain": [
       "2"
      ]
     },
     "execution_count": 7,
     "metadata": {},
     "output_type": "execute_result"
    }
   ],
   "source": [
    "\n",
    "n = int(input('Enter num:'))\n",
    "facto(n)"
   ]
  },
  {
   "cell_type": "code",
   "execution_count": 4,
   "metadata": {},
   "outputs": [],
   "source": [
    "def facto(n):\n",
    "    if n==0:\n",
    "        return 1\n",
    "    return n* facto(n-1)\n",
    "\n",
    "\n",
    "#by default we can go deeper 1000"
   ]
  },
  {
   "cell_type": "markdown",
   "metadata": {},
   "source": [
    "`Theory: `</br>\n",
    "Recursion is based on PMI\n",
    "f is true for all natural number\n",
    "task 1 : f(0) and f(1) is true\n",
    "task 2 : prove (n+1) true"
   ]
  },
  {
   "cell_type": "markdown",
   "metadata": {},
   "source": [
    "Summation of n number"
   ]
  },
  {
   "cell_type": "code",
   "execution_count": 8,
   "metadata": {},
   "outputs": [],
   "source": [
    "def sum(n):\n",
    "    if n==0:\n",
    "        return 0 ;\n",
    "    else:\n",
    "        return n+ sum(n-1)"
   ]
  },
  {
   "cell_type": "code",
   "execution_count": 9,
   "metadata": {},
   "outputs": [
    {
     "data": {
      "text/plain": [
       "55"
      ]
     },
     "execution_count": 9,
     "metadata": {},
     "output_type": "execute_result"
    }
   ],
   "source": [
    "sum(10)"
   ]
  },
  {
   "cell_type": "markdown",
   "metadata": {},
   "source": [
    "Question 1 :\n",
    "    Power Of A Number\n",
    "Send Feedback\n",
    "Write a program to find x to the power n (i.e. x^n). Take x and n from the user. You need to print the answer.\n",
    "Note : For this question, you can assume that 0 raised to the power of 0 is 1\n",
    "\n",
    "Input format :\n",
    "Two integers x and n (separated by space)\n",
    "Output Format :\n",
    "x^n (i.e. x raise to the power n)\n",
    "Constraints:\n",
    "0 <= x <= 8 \n",
    "0 <= n <= 9\n",
    "Sample Input 1 :\n",
    " 3 4\n",
    "Sample Output 1 :\n",
    "81\n",
    "Sample Input 2 :\n",
    " 2 5\n",
    "Sample Output 2 :\n",
    "32\n"
   ]
  },
  {
   "cell_type": "code",
   "execution_count": 12,
   "metadata": {},
   "outputs": [
    {
     "name": "stdout",
     "output_type": "stream",
     "text": [
      "Enter no110\n",
      "Enter no23\n"
     ]
    },
    {
     "data": {
      "text/plain": [
       "1000"
      ]
     },
     "execution_count": 12,
     "metadata": {},
     "output_type": "execute_result"
    }
   ],
   "source": [
    "var1 = int(input('Enter no1'))\n",
    "var2 = int(input('Enter no2'))\n",
    "\n",
    "def powerof(var1 , var2):\n",
    "    if(var2 == 0):\n",
    "        return 1 \n",
    "    return var1 * powerof(var1 , var2-1)\n",
    "\n",
    "\n",
    "powerof(var1,var2)"
   ]
  },
  {
   "cell_type": "markdown",
   "metadata": {},
   "source": [
    "Print 1 to n and print n to 1"
   ]
  },
  {
   "cell_type": "code",
   "execution_count": 17,
   "metadata": {},
   "outputs": [
    {
     "name": "stdout",
     "output_type": "stream",
     "text": [
      "5\n",
      "4\n",
      "3\n",
      "2\n",
      "1\n",
      "0\n"
     ]
    }
   ],
   "source": [
    "def printvaln_to1(n):\n",
    "    print(n)\n",
    "    if n==0:\n",
    "        return \n",
    "    return printvaln_to1(n-1)\n",
    "    \n",
    "printvaln_to1_to1(5)"
   ]
  },
  {
   "cell_type": "code",
   "execution_count": 19,
   "metadata": {},
   "outputs": [
    {
     "name": "stdout",
     "output_type": "stream",
     "text": [
      "1\n",
      "2\n",
      "3\n",
      "4\n",
      "5\n"
     ]
    }
   ],
   "source": [
    "def printval1_ton(n):\n",
    "   \n",
    "    if n==0:\n",
    "        return \n",
    "    printval1_ton(n-1) \n",
    "    print(n)\n",
    "    \n",
    "printval1_ton(5)"
   ]
  },
  {
   "cell_type": "markdown",
   "metadata": {},
   "source": [
    "### Fibonacci series"
   ]
  },
  {
   "cell_type": "code",
   "execution_count": 24,
   "metadata": {},
   "outputs": [
    {
     "data": {
      "text/plain": [
       "5"
      ]
     },
     "execution_count": 24,
     "metadata": {},
     "output_type": "execute_result"
    }
   ],
   "source": [
    "def fibo(n):\n",
    "    \n",
    "    if n==2 or n==1 :\n",
    "        return 1\n",
    "    \n",
    "    else :\n",
    "        return  fibo(n-1) + fibo(n-2)\n",
    "    \n",
    "fibo(5)"
   ]
  },
  {
   "cell_type": "markdown",
   "metadata": {},
   "source": [
    "### Recursion : factorial for huge number"
   ]
  },
  {
   "cell_type": "code",
   "execution_count": 42,
   "metadata": {},
   "outputs": [
    {
     "name": "stdout",
     "output_type": "stream",
     "text": [
      "enter number:3\n"
     ]
    },
    {
     "data": {
      "text/plain": [
       "6"
      ]
     },
     "execution_count": 42,
     "metadata": {},
     "output_type": "execute_result"
    }
   ],
   "source": [
    "#enter value\n",
    "n = int(input('enter number:'))\n",
    "facto(n)"
   ]
  },
  {
   "cell_type": "markdown",
   "metadata": {},
   "source": [
    "`2959` is the last number after that we cant not do factorial as it is crossing the limit we can increase that in this following way"
   ]
  },
  {
   "cell_type": "code",
   "execution_count": 46,
   "metadata": {},
   "outputs": [
    {
     "name": "stdout",
     "output_type": "stream",
     "text": [
      "enter number:20\n"
     ]
    },
    {
     "data": {
      "text/plain": [
       "2432902008176640000"
      ]
     },
     "execution_count": 46,
     "metadata": {},
     "output_type": "execute_result"
    }
   ],
   "source": [
    "import sys\n",
    "sys.setrecursionlimit(3000)\n",
    "\n",
    "#enter value\n",
    "n = int(input('enter number:'))\n",
    "facto(n)"
   ]
  },
  {
   "cell_type": "markdown",
   "metadata": {},
   "source": [
    "### Check if the list is sorted or not\n",
    "- Base case length is 0 or 1 return 1\n",
    "- induction hypothesis it works for l-1\n",
    "- check if [0] > [1] then return false\n",
    "- check fro smaller list smarting from 1\n"
   ]
  },
  {
   "cell_type": "code",
   "execution_count": 48,
   "metadata": {},
   "outputs": [],
   "source": [
    "def issorted(l):\n",
    "    length = len(l)\n",
    "    if length ==0 or length ==1 :\n",
    "        return True\n",
    "    if l[0] > l[1] :\n",
    "        return False\n",
    "    smallerlist = l[1:]   #we are copping the smaller list from 2nd element to end into new list\n",
    "    issmallerlist = issorted(smallerlist)\n",
    "    #return issmallerlist\n",
    "    if issmallerlist:\n",
    "        return True\n",
    "    else : \n",
    "        return False\n",
    "    "
   ]
  },
  {
   "cell_type": "code",
   "execution_count": 50,
   "metadata": {},
   "outputs": [
    {
     "data": {
      "text/plain": [
       "False"
      ]
     },
     "execution_count": 50,
     "metadata": {},
     "output_type": "execute_result"
    }
   ],
   "source": [
    "list1 = [1,2,3,4,5,6,7]\n",
    "issorted(list1)"
   ]
  },
  {
   "cell_type": "code",
   "execution_count": 51,
   "metadata": {},
   "outputs": [
    {
     "data": {
      "text/plain": [
       "False"
      ]
     },
     "execution_count": 51,
     "metadata": {},
     "output_type": "execute_result"
    }
   ],
   "source": [
    "list1 = [1,2,3,55,5,6,7]\n",
    "issorted(list1)"
   ]
  },
  {
   "cell_type": "markdown",
   "metadata": {},
   "source": [
    "### SUM of array :\n"
   ]
  },
  {
   "cell_type": "code",
   "execution_count": 56,
   "metadata": {},
   "outputs": [],
   "source": [
    "def sumarray(l) :\n",
    "    #print(len(l)) this is to print the memeory usage\n",
    "    length = len(l)\n",
    "    if length == 1 :\n",
    "        return l[0]\n",
    "    smallerlist = l[1:]\n",
    "    return l[0] + sumarray(smallerlist)"
   ]
  },
  {
   "cell_type": "code",
   "execution_count": 57,
   "metadata": {},
   "outputs": [
    {
     "data": {
      "text/plain": [
       "28"
      ]
     },
     "execution_count": 57,
     "metadata": {},
     "output_type": "execute_result"
    }
   ],
   "source": [
    "list1 = [1,2,3,4,5,6,7]\n",
    "sumarray(list1)"
   ]
  },
  {
   "cell_type": "markdown",
   "metadata": {},
   "source": [
    "### Check number in the array :"
   ]
  },
  {
   "cell_type": "code",
   "execution_count": 76,
   "metadata": {},
   "outputs": [],
   "source": [
    "def checknum(l ,x) :\n",
    "    length = len(l)\n",
    "    if length == 0 :\n",
    "        return False\n",
    "    \n",
    "    if(l[0]==x) :\n",
    "        return True\n",
    "        \n",
    "    print(l ,x)\n",
    "    checklist = l[1:]\n",
    "    checkpoint = checknum(checklist,x)\n",
    "    return checkpoint\n",
    "    \n",
    "    "
   ]
  },
  {
   "cell_type": "code",
   "execution_count": 77,
   "metadata": {},
   "outputs": [
    {
     "name": "stdout",
     "output_type": "stream",
     "text": [
      "[1, 2, 3, 4, 5, 6, 7] 3\n",
      "[2, 3, 4, 5, 6, 7] 3\n"
     ]
    },
    {
     "data": {
      "text/plain": [
       "True"
      ]
     },
     "execution_count": 77,
     "metadata": {},
     "output_type": "execute_result"
    }
   ],
   "source": [
    "list1 = [1,2,3,4,5,6,7]\n",
    "checknum(list1 , 3)"
   ]
  },
  {
   "cell_type": "markdown",
   "metadata": {},
   "source": [
    "### Recursion with less space complexity"
   ]
  },
  {
   "cell_type": "code",
   "execution_count": 80,
   "metadata": {},
   "outputs": [],
   "source": [
    "def issortedbetter(l , si):\n",
    "    length = len(l)\n",
    "    if si == length -1 or si == 1 :   #si ==1 means for 0 length file\n",
    "        return True\n",
    "    else :\n",
    "        if(l[si] > l[si+1]):\n",
    "            return False\n",
    "    return issortedbetter(l,si+1)\n",
    "        "
   ]
  },
  {
   "cell_type": "code",
   "execution_count": 81,
   "metadata": {},
   "outputs": [
    {
     "data": {
      "text/plain": [
       "True"
      ]
     },
     "execution_count": 81,
     "metadata": {},
     "output_type": "execute_result"
    }
   ],
   "source": [
    "list1 = [1,2,3,4,5,6,7]\n",
    "issortedbetter(list1 , 3)"
   ]
  },
  {
   "cell_type": "code",
   "execution_count": 82,
   "metadata": {},
   "outputs": [
    {
     "data": {
      "text/plain": [
       "False"
      ]
     },
     "execution_count": 82,
     "metadata": {},
     "output_type": "execute_result"
    }
   ],
   "source": [
    "list1 = [1,2,3,55,5,6,7]\n",
    "issortedbetter(list1 , 3)"
   ]
  },
  {
   "cell_type": "markdown",
   "metadata": {},
   "source": [
    "### First Index (recursive) \n",
    "Problem Description:​ ​Given an array of length N and an integer x, you need to find\n",
    "and return the first index of integer x present in the array. Return -1 if it is not\n",
    "present in the array.\n"
   ]
  },
  {
   "cell_type": "code",
   "execution_count": 87,
   "metadata": {},
   "outputs": [],
   "source": [
    "def firstindex(l , x) :\n",
    "    length = len(l)\n",
    "    if length == 0 :\n",
    "        return -1 \n",
    "    if l[0] == x :\n",
    "        return 0\n",
    "    smallerlist = l[1:]\n",
    "    checkposition = firstindex(smallerlist , x)\n",
    "    #print(l , checkposition)  this is to check how the recursion works\n",
    "    if checkposition == -1 :\n",
    "        return -1\n",
    "    else:\n",
    "        return checkposition +1 "
   ]
  },
  {
   "cell_type": "code",
   "execution_count": 88,
   "metadata": {},
   "outputs": [
    {
     "data": {
      "text/plain": [
       "2"
      ]
     },
     "execution_count": 88,
     "metadata": {},
     "output_type": "execute_result"
    }
   ],
   "source": [
    "list1 = [1,2,3,55,5,6,7]\n",
    "firstindex(list1 , 3)"
   ]
  },
  {
   "cell_type": "code",
   "execution_count": 110,
   "metadata": {},
   "outputs": [],
   "source": [
    "def firstindexbetter(l , x ,si):\n",
    "    length = len(l)\n",
    "    if si == length   :\n",
    "        return -1\n",
    "    if l[si] == x :\n",
    "        return si\n",
    "    #print(l , si )\n",
    "    checkpos = firstindexbetter(l , x , si+1)\n",
    "    return checkpos\n",
    "    \n",
    "    "
   ]
  },
  {
   "cell_type": "code",
   "execution_count": 112,
   "metadata": {},
   "outputs": [
    {
     "data": {
      "text/plain": [
       "2"
      ]
     },
     "execution_count": 112,
     "metadata": {},
     "output_type": "execute_result"
    }
   ],
   "source": [
    "list1 = [1,2,3,55,5,6,7]\n",
    "firstindexbetter(list1 , 3 , 0)"
   ]
  },
  {
   "cell_type": "markdown",
   "metadata": {},
   "source": [
    "### Last Index (recursive)\n",
    "Problem Description:​ ​Given an array of length N and an integer x, you need to find and return the first index of integer x present in the array. Return -1 if it is not present in the array."
   ]
  },
  {
   "cell_type": "code",
   "execution_count": 116,
   "metadata": {},
   "outputs": [],
   "source": [
    "def lastindex(l,x):\n",
    "    length  = len(l)\n",
    "    if length == 0 :\n",
    "        return -1\n",
    "    if l[length-1] == x :\n",
    "        return 0 \n",
    "    smallerlist = l[:length-1]\n",
    "    checkpos = lastindex(smallerlist , x)\n",
    "    if checkpos == -1:\n",
    "        return -1\n",
    "    else: \n",
    "        return checkpos + 1 "
   ]
  },
  {
   "cell_type": "code",
   "execution_count": 118,
   "metadata": {},
   "outputs": [
    {
     "data": {
      "text/plain": [
       "1"
      ]
     },
     "execution_count": 118,
     "metadata": {},
     "output_type": "execute_result"
    }
   ],
   "source": [
    "list1 = [1,2,3,55,5,6,3,7]\n",
    "lastindex(list1 , 3 )"
   ]
  },
  {
   "cell_type": "code",
   "execution_count": 121,
   "metadata": {},
   "outputs": [],
   "source": [
    "def lastindexbetter(l,x,si):\n",
    "    length = len(l)\n",
    "    \n",
    "    if(length==si):\n",
    "        return -1\n",
    "    \n",
    "    checkpos = lastindexbetter(l,x , si+1)\n",
    "    if checkpos != -1:\n",
    "        return checkpos\n",
    "    else:\n",
    "        if l[si] ==x :\n",
    "            return si\n",
    "        else:\n",
    "            return -1"
   ]
  },
  {
   "cell_type": "code",
   "execution_count": 124,
   "metadata": {},
   "outputs": [
    {
     "data": {
      "text/plain": [
       "6"
      ]
     },
     "execution_count": 124,
     "metadata": {},
     "output_type": "execute_result"
    }
   ],
   "source": [
    "list1 = [1,2,3,55,5,6,3,7]\n",
    "lastindexbetter(list1 , 3 ,0)"
   ]
  },
  {
   "cell_type": "code",
   "execution_count": null,
   "metadata": {},
   "outputs": [],
   "source": []
  }
 ],
 "metadata": {
  "kernelspec": {
   "display_name": "Python 3",
   "language": "python",
   "name": "python3"
  },
  "language_info": {
   "codemirror_mode": {
    "name": "ipython",
    "version": 3
   },
   "file_extension": ".py",
   "mimetype": "text/x-python",
   "name": "python",
   "nbconvert_exporter": "python",
   "pygments_lexer": "ipython3",
   "version": "3.7.6"
  }
 },
 "nbformat": 4,
 "nbformat_minor": 4
}

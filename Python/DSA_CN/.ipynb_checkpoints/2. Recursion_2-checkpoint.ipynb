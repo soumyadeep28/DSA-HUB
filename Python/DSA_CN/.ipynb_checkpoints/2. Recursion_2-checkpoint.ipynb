{
 "cells": [
  {
   "cell_type": "markdown",
   "metadata": {},
   "source": [
    "### Replace 'a' with 'b' in a string"
   ]
  },
  {
   "cell_type": "code",
   "execution_count": 9,
   "metadata": {},
   "outputs": [],
   "source": [
    "def replace(s , a , b):\n",
    "    if(len(s) ==0):\n",
    "        return s\n",
    "    \n",
    "    smallstring = s[1:]\n",
    "    smallchar = replace(smallstring, a,b)\n",
    "    if s[0]== a :\n",
    "        return b + smallchar\n",
    "    else:\n",
    "        return s[0] + smallchar\n"
   ]
  },
  {
   "cell_type": "code",
   "execution_count": 10,
   "metadata": {},
   "outputs": [
    {
     "name": "stdout",
     "output_type": "stream",
     "text": [
      "abgfafga\n"
     ]
    },
    {
     "data": {
      "text/plain": [
       "'bbgfbfgb'"
      ]
     },
     "execution_count": 10,
     "metadata": {},
     "output_type": "execute_result"
    }
   ],
   "source": [
    "string = input()\n",
    "replace(string , 'a' , 'b')"
   ]
  },
  {
   "cell_type": "markdown",
   "metadata": {},
   "source": [
    "### Replace pi with 3.14"
   ]
  },
  {
   "cell_type": "code",
   "execution_count": 24,
   "metadata": {},
   "outputs": [],
   "source": [
    "def replacepi(s) :\n",
    "    if len(s)==0 or len(s)==1 :\n",
    "        return s \n",
    "    \n",
    "    if s[0]== 'p' and s[1]== 'i' :\n",
    "        smallchar = replacepi(s[2:])    #procedding with 2 values after seing'pi' \n",
    "        return '3.14' + smallchar\n",
    "    else:\n",
    "        smallchar = replacepi(s[1:])\n",
    "        return s[0] + smallchar\n",
    "    \n",
    "    "
   ]
  },
  {
   "cell_type": "code",
   "execution_count": 26,
   "metadata": {},
   "outputs": [
    {
     "name": "stdout",
     "output_type": "stream",
     "text": [
      "2pir\n"
     ]
    },
    {
     "data": {
      "text/plain": [
       "'23.14r'"
      ]
     },
     "execution_count": 26,
     "metadata": {},
     "output_type": "execute_result"
    }
   ],
   "source": [
    "string = input()\n",
    "replacepi(string)"
   ]
  },
  {
   "cell_type": "markdown",
   "metadata": {},
   "source": [
    "### Remove X\n",
    "\n",
    "Given a string, compute recursively a new string where all 'x' chars have been removed.\n",
    "Input format :\n"
   ]
  },
  {
   "cell_type": "code",
   "execution_count": 40,
   "metadata": {},
   "outputs": [],
   "source": [
    "def removex(s):\n",
    "    if(len(s) == 0):\n",
    "        return s\n",
    "    smalllist = s[1:]\n",
    "    #print(s ,s[0])\n",
    "    removedx = removex(smalllist)\n",
    "    if s[0] == 'x' :\n",
    "        return '' + removedx\n",
    "    else:\n",
    "        return s[0] + removedx"
   ]
  },
  {
   "cell_type": "code",
   "execution_count": 42,
   "metadata": {},
   "outputs": [
    {
     "name": "stdout",
     "output_type": "stream",
     "text": [
      "abbccxxxxlklklkxxlklkx\n"
     ]
    },
    {
     "data": {
      "text/plain": [
       "'abbcclklklklklk'"
      ]
     },
     "execution_count": 42,
     "metadata": {},
     "output_type": "execute_result"
    }
   ],
   "source": [
    "string = input()\n",
    "removex(string)"
   ]
  },
  {
   "cell_type": "markdown",
   "metadata": {},
   "source": [
    "### Remove Duplicates Recursively\n",
    "\n",
    "Given a string S, remove consecutive duplicates from it recursively.\n"
   ]
  },
  {
   "cell_type": "code",
   "execution_count": 67,
   "metadata": {},
   "outputs": [],
   "source": [
    "def removeduplicate(s):\n",
    "    if(len(s) == 0 or len(s) == 1):\n",
    "        return s \n",
    "    if s[0] ==s[1] :\n",
    "        smallist = s[1:]\n",
    "        \n",
    "        afterremove = removeduplicate(smallist)\n",
    "        return ''+afterremove\n",
    "    else : \n",
    "        smallist = s[1:]\n",
    "        afterremove = removeduplicate(smallist)\n",
    "        return s[0] + afterremove\n",
    "        "
   ]
  },
  {
   "cell_type": "code",
   "execution_count": 68,
   "metadata": {},
   "outputs": [
    {
     "name": "stdout",
     "output_type": "stream",
     "text": [
      "abbbbbbbbbbbbbbbccccccccccccdds\n"
     ]
    },
    {
     "data": {
      "text/plain": [
       "'abcds'"
      ]
     },
     "execution_count": 68,
     "metadata": {},
     "output_type": "execute_result"
    }
   ],
   "source": [
    "string = input()\n",
    "removeduplicate(string)"
   ]
  },
  {
   "cell_type": "markdown",
   "metadata": {},
   "source": [
    "### Binary Search\n",
    "    always list should be in sorted order"
   ]
  },
  {
   "cell_type": "code",
   "execution_count": 112,
   "metadata": {},
   "outputs": [],
   "source": [
    "def binarysearch(arr , key , start , end):\n",
    "    if start>end :\n",
    "        return -1 \n",
    "    mid = (start+end) // 2 \n",
    "    print('-----------------------------------------')\n",
    "    print(\"mid: \" ,mid ,'->Mid value' , arr[mid])\n",
    "    print(\"start: \" ,start)\n",
    "    print(\"end: \" ,end)\n",
    "    print(\"arr: \" ,arr)\n",
    "    print('-----------------------------------------')\n",
    "    if(arr[mid] == key):\n",
    "        return mid\n",
    "    elif(arr[mid] > key):\n",
    "        return binarysearch(arr , key , start , mid-1)\n",
    "    else:\n",
    "        return binarysearch(arr , key , mid+1 , end)\n",
    "    \n",
    "    "
   ]
  },
  {
   "cell_type": "code",
   "execution_count": 115,
   "metadata": {},
   "outputs": [
    {
     "name": "stdout",
     "output_type": "stream",
     "text": [
      "11\n",
      "-----------------------------------------\n",
      "mid:  3 ->Mid value 5\n",
      "start:  0\n",
      "end:  7\n",
      "arr:  [1, 2, 3, 5, 6, 8, 9, 11]\n",
      "-----------------------------------------\n",
      "-----------------------------------------\n",
      "mid:  5 ->Mid value 8\n",
      "start:  4\n",
      "end:  7\n",
      "arr:  [1, 2, 3, 5, 6, 8, 9, 11]\n",
      "-----------------------------------------\n",
      "-----------------------------------------\n",
      "mid:  6 ->Mid value 9\n",
      "start:  6\n",
      "end:  7\n",
      "arr:  [1, 2, 3, 5, 6, 8, 9, 11]\n",
      "-----------------------------------------\n",
      "-----------------------------------------\n",
      "mid:  7 ->Mid value 11\n",
      "start:  7\n",
      "end:  7\n",
      "arr:  [1, 2, 3, 5, 6, 8, 9, 11]\n",
      "-----------------------------------------\n"
     ]
    },
    {
     "data": {
      "text/plain": [
       "7"
      ]
     },
     "execution_count": 115,
     "metadata": {},
     "output_type": "execute_result"
    }
   ],
   "source": [
    "list1 = [1,2,3,5,6,8,9,11]\n",
    "a=int(input())\n",
    "binarysearch(list1 , a , 0 , 7)"
   ]
  },
  {
   "cell_type": "code",
   "execution_count": null,
   "metadata": {},
   "outputs": [],
   "source": []
  }
 ],
 "metadata": {
  "kernelspec": {
   "display_name": "Python 3",
   "language": "python",
   "name": "python3"
  },
  "language_info": {
   "codemirror_mode": {
    "name": "ipython",
    "version": 3
   },
   "file_extension": ".py",
   "mimetype": "text/x-python",
   "name": "python",
   "nbconvert_exporter": "python",
   "pygments_lexer": "ipython3",
   "version": "3.7.6"
  }
 },
 "nbformat": 4,
 "nbformat_minor": 4
}
